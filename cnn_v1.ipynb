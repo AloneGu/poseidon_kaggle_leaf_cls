{
 "cells": [
  {
   "cell_type": "code",
   "execution_count": 1,
   "metadata": {},
   "outputs": [
    {
     "name": "stderr",
     "output_type": "stream",
     "text": [
      "Using TensorFlow backend.\n"
     ]
    }
   ],
   "source": [
    "import keras\n",
    "\n",
    "\n"
   ]
  },
  {
   "cell_type": "code",
   "execution_count": 2,
   "metadata": {},
   "outputs": [
    {
     "name": "stdout",
     "output_type": "stream",
     "text": [
      "['Acer_Capillipes' 'Acer_Circinatum' 'Acer_Mono' 'Acer_Opalus'\n",
      " 'Acer_Palmatum' 'Acer_Pictum' 'Acer_Platanoids' 'Acer_Rubrum'\n",
      " 'Acer_Rufinerve' 'Acer_Saccharinum' 'Alnus_Cordata' 'Alnus_Maximowiczii'\n",
      " 'Alnus_Rubra' 'Alnus_Sieboldiana' 'Alnus_Viridis' 'Arundinaria_Simonii'\n",
      " 'Betula_Austrosinensis' 'Betula_Pendula' 'Callicarpa_Bodinieri'\n",
      " 'Castanea_Sativa' 'Celtis_Koraiensis' 'Cercis_Siliquastrum'\n",
      " 'Cornus_Chinensis' 'Cornus_Controversa' 'Cornus_Macrophylla'\n",
      " 'Cotinus_Coggygria' 'Crataegus_Monogyna' 'Cytisus_Battandieri'\n",
      " 'Eucalyptus_Glaucescens' 'Eucalyptus_Neglecta' 'Eucalyptus_Urnigera'\n",
      " 'Fagus_Sylvatica' 'Ginkgo_Biloba' 'Ilex_Aquifolium' 'Ilex_Cornuta'\n",
      " 'Liquidambar_Styraciflua' 'Liriodendron_Tulipifera'\n",
      " 'Lithocarpus_Cleistocarpus' 'Lithocarpus_Edulis' 'Magnolia_Heptapeta'\n",
      " 'Magnolia_Salicifolia' 'Morus_Nigra' 'Olea_Europaea' 'Phildelphus'\n",
      " 'Populus_Adenopoda' 'Populus_Grandidentata' 'Populus_Nigra' 'Prunus_Avium'\n",
      " 'Prunus_X_Shmittii' 'Pterocarya_Stenoptera' 'Quercus_Afares'\n",
      " 'Quercus_Agrifolia' 'Quercus_Alnifolia' 'Quercus_Brantii'\n",
      " 'Quercus_Canariensis' 'Quercus_Castaneifolia' 'Quercus_Cerris'\n",
      " 'Quercus_Chrysolepis' 'Quercus_Coccifera' 'Quercus_Coccinea'\n",
      " 'Quercus_Crassifolia' 'Quercus_Crassipes' 'Quercus_Dolicholepis'\n",
      " 'Quercus_Ellipsoidalis' 'Quercus_Greggii' 'Quercus_Hartwissiana'\n",
      " 'Quercus_Ilex' 'Quercus_Imbricaria' 'Quercus_Infectoria_sub'\n",
      " 'Quercus_Kewensis' 'Quercus_Nigra' 'Quercus_Palustris' 'Quercus_Phellos'\n",
      " 'Quercus_Phillyraeoides' 'Quercus_Pontica' 'Quercus_Pubescens'\n",
      " 'Quercus_Pyrenaica' 'Quercus_Rhysophylla' 'Quercus_Rubra'\n",
      " 'Quercus_Semecarpifolia' 'Quercus_Shumardii' 'Quercus_Suber'\n",
      " 'Quercus_Texana' 'Quercus_Trojana' 'Quercus_Variabilis'\n",
      " 'Quercus_Vulcanica' 'Quercus_x_Hispanica' 'Quercus_x_Turneri'\n",
      " 'Rhododendron_x_Russellianum' 'Salix_Fragilis' 'Salix_Intergra'\n",
      " 'Sorbus_Aria' 'Tilia_Oliveri' 'Tilia_Platyphyllos' 'Tilia_Tomentosa'\n",
      " 'Ulmus_Bergmanniana' 'Viburnum_Tinus' 'Viburnum_x_Rhytidophylloides'\n",
      " 'Zelkova_Serrata']\n",
      "   id                species   margin1   margin2   margin3   margin4  \\\n",
      "0   1            Acer_Opalus  0.007812  0.023438  0.023438  0.003906   \n",
      "1   2  Pterocarya_Stenoptera  0.005859  0.000000  0.031250  0.015625   \n",
      "2   3   Quercus_Hartwissiana  0.005859  0.009766  0.019531  0.007812   \n",
      "3   5        Tilia_Tomentosa  0.000000  0.003906  0.023438  0.005859   \n",
      "4   6     Quercus_Variabilis  0.005859  0.003906  0.048828  0.009766   \n",
      "\n",
      "    margin5   margin6   margin7  margin8    ...      texture55  texture56  \\\n",
      "0  0.011719  0.009766  0.027344      0.0    ...       0.007812   0.000000   \n",
      "1  0.025391  0.001953  0.019531      0.0    ...       0.000977   0.000000   \n",
      "2  0.003906  0.005859  0.068359      0.0    ...       0.154300   0.000000   \n",
      "3  0.021484  0.019531  0.023438      0.0    ...       0.000000   0.000977   \n",
      "4  0.013672  0.015625  0.005859      0.0    ...       0.096680   0.000000   \n",
      "\n",
      "   texture57  texture58  texture59  texture60  texture61  texture62  \\\n",
      "0   0.002930   0.002930   0.035156        0.0        0.0   0.004883   \n",
      "1   0.000000   0.000977   0.023438        0.0        0.0   0.000977   \n",
      "2   0.005859   0.000977   0.007812        0.0        0.0   0.000000   \n",
      "3   0.000000   0.000000   0.020508        0.0        0.0   0.017578   \n",
      "4   0.021484   0.000000   0.000000        0.0        0.0   0.000000   \n",
      "\n",
      "   texture63  texture64  \n",
      "0   0.000000   0.025391  \n",
      "1   0.039062   0.022461  \n",
      "2   0.020508   0.002930  \n",
      "3   0.000000   0.047852  \n",
      "4   0.000000   0.031250  \n",
      "\n",
      "[5 rows x 194 columns]\n",
      "   id   margin1   margin2   margin3   margin4   margin5   margin6   margin7  \\\n",
      "0   4  0.019531  0.009766  0.078125  0.011719  0.003906  0.015625  0.005859   \n",
      "1   7  0.007812  0.005859  0.064453  0.009766  0.003906  0.013672  0.007812   \n",
      "2   9  0.000000  0.000000  0.001953  0.021484  0.041016  0.000000  0.023438   \n",
      "3  12  0.000000  0.000000  0.009766  0.011719  0.017578  0.000000  0.003906   \n",
      "4  13  0.001953  0.000000  0.015625  0.009766  0.039062  0.000000  0.009766   \n",
      "\n",
      "   margin8   margin9    ...      texture55  texture56  texture57  texture58  \\\n",
      "0      0.0  0.005859    ...       0.006836   0.000000   0.015625   0.000977   \n",
      "1      0.0  0.033203    ...       0.000000   0.000000   0.006836   0.001953   \n",
      "2      0.0  0.011719    ...       0.128910   0.000000   0.000977   0.000000   \n",
      "3      0.0  0.003906    ...       0.012695   0.015625   0.002930   0.036133   \n",
      "4      0.0  0.005859    ...       0.000000   0.042969   0.016602   0.010742   \n",
      "\n",
      "   texture59  texture60  texture61  texture62  texture63  texture64  \n",
      "0   0.015625        0.0        0.0   0.000000   0.003906   0.053711  \n",
      "1   0.013672        0.0        0.0   0.000977   0.037109   0.044922  \n",
      "2   0.000000        0.0        0.0   0.015625   0.000000   0.000000  \n",
      "3   0.013672        0.0        0.0   0.089844   0.000000   0.008789  \n",
      "4   0.041016        0.0        0.0   0.007812   0.009766   0.007812  \n",
      "\n",
      "[5 rows x 193 columns]\n"
     ]
    }
   ],
   "source": [
    "# load data\n",
    "import pandas as pd\n",
    "import numpy as np\n",
    "from scipy.ndimage import imread\n",
    "from scipy.misc import imresize\n",
    "SAMPLE_SUB = 'leaf_data/sample_submission.csv'\n",
    "TRAIN_CSV = 'leaf_data/train.csv'\n",
    "TEST_CSV = 'leaf_data/test.csv'\n",
    "\n",
    "IMG_SIZE = (256,256)\n",
    "\n",
    "sample_df = pd.read_csv(SAMPLE_SUB)\n",
    "res_cols = sample_df.columns.values[1:]\n",
    "print res_cols\n",
    "col_cnt = len(res_cols)\n",
    "\n",
    "train_df = pd.read_csv(TRAIN_CSV)\n",
    "test_df = pd.read_csv(TEST_CSV)\n",
    "print train_df.head()\n",
    "print test_df.head()"
   ]
  },
  {
   "cell_type": "code",
   "execution_count": 3,
   "metadata": {},
   "outputs": [
    {
     "name": "stdout",
     "output_type": "stream",
     "text": [
      "(array([[0, 0, 0, ..., 0, 0, 0],\n",
      "       [0, 0, 0, ..., 0, 0, 0],\n",
      "       [0, 0, 0, ..., 0, 0, 0],\n",
      "       ..., \n",
      "       [0, 0, 0, ..., 0, 0, 0],\n",
      "       [0, 0, 0, ..., 0, 0, 0],\n",
      "       [0, 0, 0, ..., 0, 0, 0]], dtype=uint8), array([0.007812, 0.023438, 0.023438, 0.003906, 0.011719, 0.009766,\n",
      "       0.027344, 0.0, 0.001953, 0.033202999999999996, 0.013672, 0.019531,\n",
      "       0.06640599999999999, 0.0, 0.029297000000000004, 0.0, 0.03125,\n",
      "       0.011719, 0.0, 0.025391, 0.023438, 0.001953, 0.0, 0.015625, 0.0,\n",
      "       0.03125, 0.0, 0.013672, 0.029297000000000004, 0.015625, 0.011719,\n",
      "       0.003906, 0.025391, 0.0, 0.001953, 0.011719, 0.009766,\n",
      "       0.041016000000000004, 0.037108999999999996, 0.019531, 0.0, 0.009766,\n",
      "       0.021484, 0.015625, 0.007812, 0.013672, 0.027344, 0.0625, 0.0,\n",
      "       0.017578, 0.03125, 0.0, 0.044922000000000004, 0.007812, 0.025391,\n",
      "       0.003906, 0.013672, 0.015625, 0.013672, 0.003906,\n",
      "       0.0058590000000000005, 0.003906, 0.019531, 0.001953, 0.00064671,\n",
      "       0.00060945, 0.0005765, 0.0005534, 0.00051575, 0.00049629,\n",
      "       0.00047438, 0.00045284, 0.00045398, 0.00042897, 0.00041751,\n",
      "       0.00040968, 0.00040551, 0.00039822, 0.00039905, 0.00038939,\n",
      "       0.00039857, 0.00041616, 0.00041438, 0.00043008, 0.00042179,\n",
      "       0.00043667, 0.00045212, 0.00046713, 0.00047021, 0.00048446,\n",
      "       0.0004891, 0.00048976, 0.00047542, 0.00048608, 0.00048383,\n",
      "       0.00049999, 0.00051287, 0.00051148, 0.00051886, 0.00051302,\n",
      "       0.0005016, 0.00049765, 0.00048718, 0.0004707, 0.00045796,\n",
      "       0.00043969, 0.00043607, 0.00042669999999999996, 0.00039426,\n",
      "       0.00038507, 0.00038236, 0.00036998, 0.00036658,\n",
      "       0.00037260000000000006, 0.00038577, 0.00038888, 0.00039102,\n",
      "       0.00041379, 0.00042159, 0.00043435, 0.00045229, 0.00047083,\n",
      "       0.00048544, 0.00051234, 0.00053558, 0.00055327, 0.00060969,\n",
      "       0.0006605000000000001, 0.049805, 0.017578, 0.003906,\n",
      "       0.024413999999999998, 0.001953, 0.010742, 0.035156, 0.007812,\n",
      "       0.039062, 0.0625, 0.0, 0.0, 0.007812, 0.007812, 0.0, 0.0, 0.047852,\n",
      "       0.0, 0.054688, 0.022461000000000002, 0.0, 0.000977,\n",
      "       0.018555000000000002, 0.001953, 0.008789, 0.015625,\n",
      "       0.044922000000000004, 0.0, 0.037108999999999996, 0.012695,\n",
      "       0.028319999999999998, 0.0, 0.019531, 0.026367,\n",
      "       0.0058590000000000005, 0.0, 0.004883, 0.016602000000000002, 0.03418,\n",
      "       0.056641, 0.006836, 0.000977, 0.022461000000000002,\n",
      "       0.037108999999999996, 0.004883, 0.021484, 0.035156, 0.000977,\n",
      "       0.004883, 0.015625, 0.0, 0.0, 0.006836, 0.037108999999999996,\n",
      "       0.007812, 0.0, 0.00293, 0.00293, 0.035156, 0.0, 0.0, 0.004883, 0.0,\n",
      "       0.025391], dtype=object))\n",
      "[ 1.  0.  0.  0.  0.  0.  0.  0.  0.  0.  0.  0.  0.  0.  0.  0.  0.  0.\n",
      "  0.  0.  0.  0.  0.  0.  0.  0.  0.  0.  0.  0.  0.  0.  0.  0.  0.  0.\n",
      "  0.  0.  0.  0.  0.  0.  0.  0.  0.  0.  0.  0.  0.  0.  0.  0.  0.  0.\n",
      "  0.  0.  0.  0.  0.  0.  0.  0.  0.  0.  0.  0.  0.  0.  0.  0.  0.  0.\n",
      "  0.  0.  0.  0.  0.  0.  0.  0.  0.  0.  0.  0.  0.  0.  0.  0.  0.  0.\n",
      "  0.  0.  0.  0.  0.  0.  0.  0.  0.]\n"
     ]
    }
   ],
   "source": [
    "def make_train_feature(id):\n",
    "    p = 'leaf_data/images/{}.jpg'.format(int(id))\n",
    "    img_data = imread(p)\n",
    "    img_data = imresize(img_data,IMG_SIZE)\n",
    "    csv_f = train_df[train_df.id==id].values[0][2:]\n",
    "    return img_data,csv_f\n",
    "\n",
    "def make_test_feature(id):\n",
    "    p = 'leaf_data/images/{}.jpg'.format(int(id))\n",
    "    img_data = imread(p)\n",
    "    img_data = imresize(img_data,IMG_SIZE)\n",
    "    csv_f = test_df[test_df.id==id].values[0][1:]\n",
    "    return img_data,csv_f\n",
    "    \n",
    "def trans_y(cls):\n",
    "    y = np.zeros(col_cnt)\n",
    "    idx = np.where(res_cols==cls)\n",
    "    y[idx] += 1\n",
    "    return y\n",
    "\n",
    "print make_train_feature(1)\n",
    "print trans_y('Acer_Capillipes')"
   ]
  },
  {
   "cell_type": "code",
   "execution_count": 7,
   "metadata": {
    "collapsed": true
   },
   "outputs": [],
   "source": [
    "# just flat\n",
    "x_train = []\n",
    "y_train = []\n",
    "x_test = []\n",
    "\n",
    "for id in train_df.id.values:\n",
    "    img,csv_f = make_train_feature(id)\n",
    "    x_train.append(np.concatenate((img.flatten(),csv_f,np.zeros(64))))"
   ]
  },
  {
   "cell_type": "code",
   "execution_count": 9,
   "metadata": {},
   "outputs": [
    {
     "name": "stdout",
     "output_type": "stream",
     "text": [
      "(990, 65792)\n",
      "(990, 256, 257, 1)\n"
     ]
    }
   ],
   "source": [
    "x_train = np.array(x_train)\n",
    "print x_train.shape\n",
    "x_train = np.reshape(x_train,(-1,256,257,1))\n",
    "print x_train.shape"
   ]
  },
  {
   "cell_type": "code",
   "execution_count": 10,
   "metadata": {},
   "outputs": [],
   "source": [
    "y_train = [trans_y(cls) for cls in train_df.species.values]\n",
    "\n",
    "for id in test_df.id.values:\n",
    "    img,csv_f = make_test_feature(id)\n",
    "    x_test.append(np.concatenate((img.flatten(),csv_f,np.zeros(64))))"
   ]
  },
  {
   "cell_type": "code",
   "execution_count": 11,
   "metadata": {},
   "outputs": [
    {
     "name": "stdout",
     "output_type": "stream",
     "text": [
      "(990, 256, 257, 1)\n",
      "(990, 99)\n",
      "(594, 256, 257, 1)\n"
     ]
    }
   ],
   "source": [
    "y_train = np.array(y_train)\n",
    "x_test = np.array(x_test)\n",
    "x_test = np.reshape(x_test,(-1,256,257,1))\n",
    "print x_train.shape\n",
    "print y_train.shape\n",
    "print x_test.shape"
   ]
  },
  {
   "cell_type": "code",
   "execution_count": 19,
   "metadata": {},
   "outputs": [
    {
     "name": "stdout",
     "output_type": "stream",
     "text": [
      "start compile\n",
      "compile done\n"
     ]
    }
   ],
   "source": [
    "from keras.models import Sequential\n",
    "from keras.layers import Dense, Activation,Conv2D,Flatten,MaxPooling2D,Dropout\n",
    "\n",
    "def get_simple_model():\n",
    "    model = Sequential()\n",
    "    \n",
    "    # conv1\n",
    "    model.add(Conv2D(filters=32,kernel_size=(5,5),input_shape=(256,257,1)))\n",
    "    model.add(Activation('relu'))\n",
    "    model.add(MaxPooling2D(pool_size=(2,2),strides=(2,2)))\n",
    "    model.add(Dropout(0.25))\n",
    "    \n",
    "    # conv2\n",
    "    model.add(Conv2D(filters=32,kernel_size=(5,5)))\n",
    "    model.add(Activation('relu'))\n",
    "    model.add(MaxPooling2D(pool_size=(2,2),strides=(2,2)))\n",
    "    model.add(Dropout(0.25))\n",
    "    \n",
    "    # conv3\n",
    "    model.add(Conv2D(filters=32,kernel_size=(3,3)))\n",
    "    model.add(Activation('relu'))\n",
    "    model.add(MaxPooling2D(pool_size=(2,2)))\n",
    "    model.add(Dropout(0.25))\n",
    "    \n",
    "    # dense1\n",
    "    model.add(Flatten())\n",
    "    model.add(Dense(256))\n",
    "    model.add(Activation('relu'))\n",
    "    \n",
    "    # dense2\n",
    "    model.add(Dense(99))\n",
    "    model.add(Activation('softmax'))\n",
    "    \n",
    "    \n",
    "    print 'start compile'\n",
    "    model.compile(optimizer='rmsprop',\n",
    "              loss='mse')\n",
    "    print 'compile done'\n",
    "    return model\n",
    "\n",
    "m = get_simple_model()"
   ]
  },
  {
   "cell_type": "code",
   "execution_count": null,
   "metadata": {},
   "outputs": [
    {
     "name": "stdout",
     "output_type": "stream",
     "text": [
      "Train on 792 samples, validate on 198 samples\n",
      "Epoch 1/100\n",
      "224s - loss: 0.0200 - val_loss: 0.0199\n",
      "Epoch 2/100\n",
      "231s - loss: 0.0200 - val_loss: 0.0199\n",
      "Epoch 3/100\n",
      "217s - loss: 0.0200 - val_loss: 0.0199\n",
      "Epoch 4/100\n",
      "383s - loss: 0.0200 - val_loss: 0.0199\n",
      "Epoch 5/100\n",
      "225s - loss: 0.0200 - val_loss: 0.0199\n",
      "Epoch 6/100\n"
     ]
    }
   ],
   "source": [
    "epo = 100\n",
    "b_size = 32\n",
    "\n",
    "m.fit(x_train,y_train,epochs=epo,batch_size=b_size,verbose=2,validation_split=0.2)\n",
    "    "
   ]
  },
  {
   "cell_type": "code",
   "execution_count": null,
   "metadata": {},
   "outputs": [],
   "source": [
    "pred = m.predict(x_test)\n",
    "print pred.shape\n",
    "print pred[:10]\n",
    "\n",
    "res_df = sample_df.copy()\n",
    "\n",
    "\n"
   ]
  }
 ],
 "metadata": {
  "kernelspec": {
   "display_name": "Python 2",
   "language": "python",
   "name": "python2"
  },
  "language_info": {
   "codemirror_mode": {
    "name": "ipython",
    "version": 2
   },
   "file_extension": ".py",
   "mimetype": "text/x-python",
   "name": "python",
   "nbconvert_exporter": "python",
   "pygments_lexer": "ipython2",
   "version": "2.7.12"
  }
 },
 "nbformat": 4,
 "nbformat_minor": 2
}
